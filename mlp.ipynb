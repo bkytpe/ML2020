{
  "nbformat": 4,
  "nbformat_minor": 0,
  "metadata": {
    "colab": {
      "name": "mlp.ipynb",
      "private_outputs": true,
      "provenance": [],
      "authorship_tag": "ABX9TyNJllZjEv5gBxBU8tzKp+e3",
      "include_colab_link": true
    },
    "kernelspec": {
      "name": "python3",
      "display_name": "Python 3"
    },
    "accelerator": "GPU"
  },
  "cells": [
    {
      "cell_type": "markdown",
      "metadata": {
        "id": "view-in-github",
        "colab_type": "text"
      },
      "source": [
        "<a href=\"https://colab.research.google.com/github/bkytpe/ML2020/blob/main/mlp.ipynb\" target=\"_parent\"><img src=\"https://colab.research.google.com/assets/colab-badge.svg\" alt=\"Open In Colab\"/></a>"
      ]
    },
    {
      "cell_type": "code",
      "metadata": {
        "id": "9fTD5rCm5JCr"
      },
      "source": [
        "#手寫數字 #分類問題\r\n",
        "from tensorflow.keras.datasets.mnist import load_data\r\n",
        "# ((訓練圖片，訓練答案),(側視圖片<測試答案))\r\n",
        "(x_train,y_train),(x_test,y_test)= load_data()"
      ],
      "execution_count": null,
      "outputs": []
    },
    {
      "cell_type": "code",
      "metadata": {
        "id": "oM0fCmlN67zZ"
      },
      "source": [
        "print(x_train.shape)\r\n",
        "print(y_train.shape)\r\n",
        "print(x_test.shape)\r\n",
        "print(y_test.shape)"
      ],
      "execution_count": null,
      "outputs": []
    },
    {
      "cell_type": "code",
      "metadata": {
        "id": "yKFBhz0k7Jfx"
      },
      "source": [
        "import pandas as pd\r\n",
        "print(y_train[0])\r\n",
        "pd.DataFrame(x_train[0])"
      ],
      "execution_count": null,
      "outputs": []
    },
    {
      "cell_type": "code",
      "metadata": {
        "id": "cFD_zouH7iu5"
      },
      "source": [
        "#https://matplotlib.org/3.1.0/tutorials/colors/colormaps.html\r\n",
        "#colormap\r\n",
        "import matplotlib.pyplot as plt\r\n",
        "plt.imshow(x_train[0],cmap = \"gray_r\")"
      ],
      "execution_count": null,
      "outputs": []
    },
    {
      "cell_type": "code",
      "metadata": {
        "id": "v11oq5UO_Hkq"
      },
      "source": [
        "#先準備模型(蛋糕)的支架\r\n",
        "# 甚麼不能用sequential: Sianese Network(要用Model)\r\n",
        "#把激活函數偏移到原點\r\n",
        "from tensorflow.keras.models import Sequential\r\n",
        "from tensorflow.keras.layers import Dense\r\n",
        "layers = [\r\n",
        "          #784 * 128 + 128(bias)，128是自己決定的\r\n",
        "          Dense(128,activation = \"relu\",input_dim = 784),\r\n",
        "          #128 * 10 + 10(bias)，10是因為手寫數字共有0-9種可能\r\n",
        "          Dense(10,activation = \"softmax\")\r\n",
        "]\r\n",
        "model = Sequential(layers)\r\n",
        "model.summary()"
      ],
      "execution_count": null,
      "outputs": []
    },
    {
      "cell_type": "code",
      "metadata": {
        "id": "tA5E7aiER9AZ"
      },
      "source": [
        "#決定損失函式loss function要用哪個(隨機參數，調整，梯度下降)\r\n",
        "#輸出一個: binary crosssentropy\r\n",
        "#輸出多個: categorical crosssentrophy\r\n",
        "#梯度下降的優化器:動態步長(快)+動量優化(有機會找到最小值)\r\n",
        "from tensorflow.keras.losses import CategoricalCrossentropy\r\n",
        "model.compile(loss= CategoricalCrossentropy(),\r\n",
        "              optimizer = \"adam\",\r\n",
        "              metrics = [\"accuracy\"])\r\n"
      ],
      "execution_count": null,
      "outputs": []
    },
    {
      "cell_type": "code",
      "metadata": {
        "id": "ZjbtYf5IdGP6"
      },
      "source": [
        "# 預處理\r\n",
        "# x: 1.reshape成一維 2. scaling(0,1)or(-1,1)<---tensorflow一定要\r\n",
        "# y: 輸出十個答案，要做one hot encoding\r\n",
        "from tensorflow.keras.utils import to_categorical\r\n",
        "\r\n",
        "x_train_r = x_train.reshape(-1,784)/255 #-1請他幫你算\r\n",
        "x_test_r = x_test.reshape(-1,784)/255\r\n",
        "y_train_cat = to_categorical(y_train, num_classes=10)\r\n",
        "y_test_cat = to_categorical(y_test, num_classes=10)"
      ],
      "execution_count": null,
      "outputs": []
    },
    {
      "cell_type": "code",
      "metadata": {
        "id": "vi_W1Pj2hHQr"
      },
      "source": [
        "from tensorflow.keras.callbacks import ModelCheckpoint, EarlyStopping\r\n",
        "callbacks = [\r\n",
        "    EarlyStopping(patience = 5,restore_best_weights=True),\r\n",
        "    ModelCheckpoint(\"mlp.h5\",save_best_only=True)\r\n",
        "]\r\n",
        "# validation_split:切出一部分資料來驗證\r\n",
        "# batch_size: 看多少筆才做一次調整\r\n",
        "# epochs: 訓練次數(60000-6000筆/epoch)\r\n",
        "#1 epoch 多少次梯度下降: 54000/200 -->調整270次\r\n",
        "\r\n",
        "model.fit(x_train_r,\r\n",
        "      y_train_cat,\r\n",
        "      validation_split = 0.1, \r\n",
        "      batch_size=200, \r\n",
        "      epochs = 50,\r\n",
        "      verbose = 2,\r\n",
        "      callbacks = callbacks)"
      ],
      "execution_count": null,
      "outputs": []
    },
    {
      "cell_type": "code",
      "metadata": {
        "id": "0VeKL9c6oV_0"
      },
      "source": [
        "model.evaluate(x_test_r,y_test_cat)"
      ],
      "execution_count": null,
      "outputs": []
    },
    {
      "cell_type": "code",
      "metadata": {
        "id": "0faobfuIYwsj"
      },
      "source": [
        "#sklearn: predict_prob/predict\r\n",
        "#keras: predict/predict_classes\r\n",
        "from sklearn.metrics import confusion_matrix\r\n",
        "pre = model.predict_classes(x_test_r)\r\n",
        "mat = confusion_matrix(y_test,pre) #出了tensorflow就帶原本的\r\n",
        "pd.DataFrame(mat,index= [\"{}(真實)\".format(i) for i in range(10)],\r\n",
        "             columns = [\"{}(預測)\".format(i) for i in range(10)]\r\n",
        "             )"
      ],
      "execution_count": null,
      "outputs": []
    },
    {
      "cell_type": "code",
      "metadata": {
        "id": "SQiV71lGaad6"
      },
      "source": [
        "import numpy as np\r\n",
        "idx = np.nonzero(pre != y_test)[0]\r\n",
        "false_pre = pre[idx]\r\n",
        "false_ori = y_test[idx]\r\n",
        "false_img = x_test[idx]\r\n",
        "plt.figure(figsize = (14,42))\r\n",
        "width = 10\r\n",
        "height = len(idx)//width + 1\r\n",
        "for i in range(len(idx)):\r\n",
        "    plt.subplot(height, width , i+1)\r\n",
        "    t = \"[O]:{}\\n[P]:{}\".format(false_ori[i], false_pre[i])\r\n",
        "    plt.title(t)\r\n",
        "    plt.axis(\"off\")\r\n",
        "    plt.imshow(false_img[i])"
      ],
      "execution_count": null,
      "outputs": []
    },
    {
      "cell_type": "code",
      "metadata": {
        "id": "UJw5CBD0eeVI"
      },
      "source": [
        "#PIL(pillow)\r\n",
        "# from tensorflow.keras.preprocessing.image impoer load_img\r\n",
        "from PIL import Image\r\n",
        "fn = input(\"檔名\")\r\n",
        "# load_img(fn,color_mode = \"grayscale\", target_size =(28,28))\r\n",
        "img = Image.open(fn).resize((28,28)).convert(\"L\")\r\n",
        "img = np.array(img)\r\n",
        "img_r = img.reshape(1,784)/255 #注意\r\n",
        "proba = model.predict(img_r)[0]\r\n",
        "for i in range(10):\r\n",
        "    print(i, \"的機率:\", round(proba[i],3))\r\n",
        "ans = model.predict_classes(img_r)[0]\r\n",
        "print(\"答案:\",ans)\r\n",
        "plt.imshow(img)"
      ],
      "execution_count": null,
      "outputs": []
    }
  ]
}